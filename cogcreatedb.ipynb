{
 "cells": [
  {
   "cell_type": "markdown",
   "metadata": {},
   "source": [
    "### INSTRUCTIONS AND RECOMMENDATIONS FOR CREATING YOUR OWN DATABASE FOR PHYLOGENETIC STUDIES"
   ]
  },
  {
   "cell_type": "markdown",
   "metadata": {},
   "source": [
    "A database for phylogenetic study must contain:\n",
    "- a BLAST database with the chosen proteomes;\n",
    "- a file linking a gene to its protein products (g2r.tsv);\n",
    "- a file linking a taxon identifier to scientific name of an organism (names.dmp)."
   ]
  },
  {
   "cell_type": "markdown",
   "metadata": {},
   "source": [
    "We are going to get the most complete proteomes from the RefSeq database, so if you know you will be using your own set of proteomes, please, modify the algorithm accordingly. Moreover, we will need BLAST+ as well as Entrez Direct utilities."
   ]
  },
  {
   "cell_type": "markdown",
   "metadata": {},
   "source": [
    "Note that the algorithm is not intended for studying prokaryotic genes since these proteomes often use non-redundant protein accession numbers (with the prefix 'WP_')."
   ]
  },
  {
   "cell_type": "markdown",
   "metadata": {},
   "source": [
    "#### 1. Getting the necessary files."
   ]
  },
  {
   "cell_type": "markdown",
   "metadata": {},
   "source": [
    "First, download the current proteomes list from RefSeq with the corresponding BUSCO completeness scores (you will need Entrez Direct installed)."
   ]
  },
  {
   "cell_type": "code",
   "execution_count": 22,
   "metadata": {},
   "outputs": [
    {
     "name": "stderr",
     "output_type": "stream",
     "text": [
      "mkdir: cannot create directory ‘refseq_proteomes’: File exists\n"
     ]
    }
   ],
   "source": [
    "%%bash\n",
    "\n",
    "mkdir refseq_proteomes\n",
    "cd refseq_proteomes\n",
    "esearch -db assembly -query 'has_egap_annotation[prop] AND \"latest refseq\"[filter]' \\\n",
    "  | esummary \\\n",
    "  | xtract \\\n",
    "    -pattern DocumentSummary \\\n",
    "    -element \\\n",
    "      AssemblyAccession,\\\n",
    "      Organism,\\\n",
    "      Taxid,\\\n",
    "      Busco/BuscoLineage,\\\n",
    "      Busco/TotalCount,\\\n",
    "      Busco/Complete,\\\n",
    "      Busco/SingleCopy,\\\n",
    "      Busco/Duplicated,\\\n",
    "      Busco/Fragmented,\\\n",
    "      Busco/Missing \\\n",
    "> busco_scores.tsv"
   ]
  },
  {
   "cell_type": "markdown",
   "metadata": {},
   "source": [
    "Then, get the taxdump.tar.gz."
   ]
  },
  {
   "cell_type": "code",
   "execution_count": 4,
   "metadata": {},
   "outputs": [
    {
     "name": "stdout",
     "output_type": "stream",
     "text": [
      "citations.dmp\n",
      "delnodes.dmp\n",
      "division.dmp\n",
      "gencode.dmp\n",
      "images.dmp\n",
      "merged.dmp\n",
      "names.dmp\n",
      "nodes.dmp\n",
      "gc.prt\n",
      "readme.txt\n"
     ]
    }
   ],
   "source": [
    "%%bash\n",
    "\n",
    "cd refseq_proteomes\n",
    "mkdir taxonomy\n",
    "cd taxonomy\n",
    "wget -q ftp.ncbi.nlm.nih.gov/pub/taxonomy/taxdump.tar.gz -O taxdump.tar.gz \n",
    "sleep 1\n",
    "tar -xzf taxdump.tar.gz\n",
    "rm taxdump.tar.gz\n",
    "rm citations.dmp\n",
    "rm delnodes.dmp\n",
    "rm division.dmp\n",
    "rm gencode.dmp\n",
    "rm images.dmp\n",
    "rm merged.dmp\n",
    "rm readme.txt\n",
    "rm gc.prt"
   ]
  },
  {
   "cell_type": "markdown",
   "metadata": {},
   "source": [
    "#### 2. Find the most complete proteomes."
   ]
  },
  {
   "cell_type": "markdown",
   "metadata": {},
   "source": [
    "We don't need to take all proteomes into the analysis: it is sufficient to take in several most complete proteomes from each class or another taxonomic rank."
   ]
  },
  {
   "cell_type": "markdown",
   "metadata": {},
   "source": [
    "We will take 3 most complete proteomes from classes."
   ]
  },
  {
   "cell_type": "markdown",
   "metadata": {},
   "source": [
    "Lets load nodes.dmp and names.dmp for managing taxonomic ranks:"
   ]
  },
  {
   "cell_type": "code",
   "execution_count": 5,
   "metadata": {},
   "outputs": [],
   "source": [
    "import pandas as pd\n",
    "\n",
    "sep = '\\t\\|\\t'\n",
    "\n",
    "nodes = pd.read_table(\n",
    "    'refseq_proteomes/taxonomy/nodes.dmp',\n",
    "    sep = sep,\n",
    "    header = None,\n",
    "    engine ='python'\n",
    ")\n",
    "\n",
    "nodes.columns = [\n",
    "\t'Taxid',\n",
    " \t'Parent',\n",
    " \t'Rank',\n",
    " \t'EMBL',\n",
    " \t'Division',\n",
    " \t'Inherited_div',\n",
    " \t'Gencode',\n",
    " \t'Inherited_gencode',\n",
    " \t'Mito',\n",
    " \t'Inherited_mito',\n",
    " \t'GenBank_hidden',\n",
    " \t'Hidden_subtree',\n",
    " \t'Comments'\n",
    "]\n",
    "\n",
    "names = pd.read_table(\n",
    "    'refseq_proteomes/taxonomy/names.dmp',\n",
    "    sep = sep,\n",
    "    header = None,\n",
    "    engine ='python'\n",
    ")\n",
    "\n",
    "names.columns = [\n",
    "\t'Taxid',\n",
    "\t'Name',\n",
    "\t'Unique',\n",
    "\t'Class'\n",
    "]\n"
   ]
  },
  {
   "cell_type": "markdown",
   "metadata": {},
   "source": [
    "Saving all identifiers of classes:"
   ]
  },
  {
   "cell_type": "code",
   "execution_count": 6,
   "metadata": {},
   "outputs": [],
   "source": [
    "classes_ids = nodes[nodes['Rank'] == 'class']['Taxid'].to_list()"
   ]
  },
  {
   "cell_type": "markdown",
   "metadata": {},
   "source": [
    "We also have to use a sorted (by a complete BUSCO score -- column 5 -- in our case) file with BUSCO scores:"
   ]
  },
  {
   "cell_type": "code",
   "execution_count": 23,
   "metadata": {},
   "outputs": [],
   "source": [
    "busco = pd.read_table(\n",
    "    'refseq_proteomes/busco_scores.tsv',\n",
    "    header = None,\n",
    "    sep = '\\t'\n",
    ")\n",
    "\n",
    "busco.columns = [\n",
    "    'GCF',\n",
    "    'Name',\n",
    "    'Taxid',\n",
    "    'Lineage',\n",
    "    'Count',\n",
    "    'Score',\n",
    "    'Single',\n",
    "    'Dupl',\n",
    "    'Fragm',\n",
    "    'Miss'\n",
    "]\n",
    "busco = busco.dropna()\n",
    "busco = busco.sort_values(by = ['Score'], ascending = False)"
   ]
  },
  {
   "cell_type": "markdown",
   "metadata": {},
   "source": [
    "Lets use the taxid column as a list:"
   ]
  },
  {
   "cell_type": "code",
   "execution_count": 24,
   "metadata": {},
   "outputs": [
    {
     "name": "stdout",
     "output_type": "stream",
     "text": [
      "36\n"
     ]
    }
   ],
   "source": [
    "def find_class(current_taxid):\n",
    "    if not (current_taxid in classes_ids):\n",
    "        current_taxid = nodes[nodes['Taxid'] == current_taxid]['Parent'].to_list()\n",
    "        if len(set(current_taxid)) > 1:\n",
    "            raise Exception('Taxid', current_taxid, 'has multiple parents')\n",
    "        elif len(set(current_taxid)) == 0:\n",
    "            raise Exception('Warning! Root-tracing failed')\n",
    "        elif current_taxid[0] == 1:\n",
    "            return 0\n",
    "        else:\n",
    "            return find_class(current_taxid[0])\n",
    "    else:\n",
    "        return current_taxid\n",
    "\n",
    "busco['Class'] = busco['Taxid'].map(find_class).astype(int)\n",
    "print(len(busco['Class'].unique()))"
   ]
  },
  {
   "cell_type": "markdown",
   "metadata": {},
   "source": [
    "There were 36 classes in total, and we are going to obtain up to 3*36=111 proteomes. Note that 0s indicate organisms that do not have class according to the nodes.dmp file. Lets see what these are."
   ]
  },
  {
   "cell_type": "code",
   "execution_count": 25,
   "metadata": {},
   "outputs": [
    {
     "data": {
      "text/html": [
       "<div>\n",
       "<style scoped>\n",
       "    .dataframe tbody tr th:only-of-type {\n",
       "        vertical-align: middle;\n",
       "    }\n",
       "\n",
       "    .dataframe tbody tr th {\n",
       "        vertical-align: top;\n",
       "    }\n",
       "\n",
       "    .dataframe thead th {\n",
       "        text-align: right;\n",
       "    }\n",
       "</style>\n",
       "<table border=\"1\" class=\"dataframe\">\n",
       "  <thead>\n",
       "    <tr style=\"text-align: right;\">\n",
       "      <th></th>\n",
       "      <th>GCF</th>\n",
       "      <th>Name</th>\n",
       "      <th>Taxid</th>\n",
       "      <th>Lineage</th>\n",
       "      <th>Count</th>\n",
       "      <th>Score</th>\n",
       "      <th>Single</th>\n",
       "      <th>Dupl</th>\n",
       "      <th>Fragm</th>\n",
       "      <th>Miss</th>\n",
       "      <th>Class</th>\n",
       "    </tr>\n",
       "  </thead>\n",
       "  <tbody>\n",
       "    <tr>\n",
       "      <th>285</th>\n",
       "      <td>GCF_020497125.1</td>\n",
       "      <td>Mauremys mutica (yellowpond turtle)</td>\n",
       "      <td>74926</td>\n",
       "      <td>sauropsida_odb10</td>\n",
       "      <td>7480</td>\n",
       "      <td>0.993182</td>\n",
       "      <td>0.971123</td>\n",
       "      <td>0.022059</td>\n",
       "      <td>0.001070</td>\n",
       "      <td>0.005749</td>\n",
       "      <td>0</td>\n",
       "    </tr>\n",
       "    <tr>\n",
       "      <th>441</th>\n",
       "      <td>GCF_016161935.1</td>\n",
       "      <td>Mauremys reevesii (Reeves's turtle)</td>\n",
       "      <td>260615</td>\n",
       "      <td>sauropsida_odb10</td>\n",
       "      <td>7480</td>\n",
       "      <td>0.991578</td>\n",
       "      <td>0.975668</td>\n",
       "      <td>0.015909</td>\n",
       "      <td>0.001604</td>\n",
       "      <td>0.006818</td>\n",
       "      <td>0</td>\n",
       "    </tr>\n",
       "    <tr>\n",
       "      <th>74</th>\n",
       "      <td>GCF_027887155.1</td>\n",
       "      <td>Malaclemys terrapin pileata (diamondback terra...</td>\n",
       "      <td>2991368</td>\n",
       "      <td>sauropsida_odb10</td>\n",
       "      <td>7480</td>\n",
       "      <td>0.991444</td>\n",
       "      <td>0.979679</td>\n",
       "      <td>0.011765</td>\n",
       "      <td>0.001738</td>\n",
       "      <td>0.006818</td>\n",
       "      <td>0</td>\n",
       "    </tr>\n",
       "    <tr>\n",
       "      <th>323</th>\n",
       "      <td>GCF_015237465.2</td>\n",
       "      <td>Chelonia mydas (Green sea turtle)</td>\n",
       "      <td>8469</td>\n",
       "      <td>sauropsida_odb10</td>\n",
       "      <td>7480</td>\n",
       "      <td>0.990107</td>\n",
       "      <td>0.978877</td>\n",
       "      <td>0.011230</td>\n",
       "      <td>0.003075</td>\n",
       "      <td>0.006818</td>\n",
       "      <td>0</td>\n",
       "    </tr>\n",
       "    <tr>\n",
       "      <th>635</th>\n",
       "      <td>GCF_007399415.2</td>\n",
       "      <td>Gopherus evgoodei (Goodes thornscrub tortoise)</td>\n",
       "      <td>1825980</td>\n",
       "      <td>sauropsida_odb10</td>\n",
       "      <td>7480</td>\n",
       "      <td>0.989439</td>\n",
       "      <td>0.975134</td>\n",
       "      <td>0.014305</td>\n",
       "      <td>0.001604</td>\n",
       "      <td>0.008957</td>\n",
       "      <td>0</td>\n",
       "    </tr>\n",
       "    <tr>\n",
       "      <th>831</th>\n",
       "      <td>GCF_000281125.3</td>\n",
       "      <td>Alligator mississippiensis (American alligator)</td>\n",
       "      <td>8496</td>\n",
       "      <td>sauropsida_odb10</td>\n",
       "      <td>7480</td>\n",
       "      <td>0.986364</td>\n",
       "      <td>0.981417</td>\n",
       "      <td>0.004947</td>\n",
       "      <td>0.006283</td>\n",
       "      <td>0.007353</td>\n",
       "      <td>0</td>\n",
       "    </tr>\n",
       "    <tr>\n",
       "      <th>132</th>\n",
       "      <td>GCF_025201925.1</td>\n",
       "      <td>Gopherus flavomarginatus (Mexican gopher torto...</td>\n",
       "      <td>286002</td>\n",
       "      <td>sauropsida_odb10</td>\n",
       "      <td>7480</td>\n",
       "      <td>0.984626</td>\n",
       "      <td>0.972193</td>\n",
       "      <td>0.012433</td>\n",
       "      <td>0.003342</td>\n",
       "      <td>0.012032</td>\n",
       "      <td>0</td>\n",
       "    </tr>\n",
       "    <tr>\n",
       "      <th>301</th>\n",
       "      <td>GCF_009764565.3</td>\n",
       "      <td>Dermochelys coriacea (leatherback sea turtle)</td>\n",
       "      <td>27794</td>\n",
       "      <td>sauropsida_odb10</td>\n",
       "      <td>7480</td>\n",
       "      <td>0.982086</td>\n",
       "      <td>0.971791</td>\n",
       "      <td>0.010294</td>\n",
       "      <td>0.005214</td>\n",
       "      <td>0.012700</td>\n",
       "      <td>0</td>\n",
       "    </tr>\n",
       "    <tr>\n",
       "      <th>185</th>\n",
       "      <td>GCF_023653815.1</td>\n",
       "      <td>Caretta caretta (Loggerhead turtle)</td>\n",
       "      <td>8467</td>\n",
       "      <td>sauropsida_odb10</td>\n",
       "      <td>7480</td>\n",
       "      <td>0.977941</td>\n",
       "      <td>0.967914</td>\n",
       "      <td>0.010027</td>\n",
       "      <td>0.002139</td>\n",
       "      <td>0.019920</td>\n",
       "      <td>0</td>\n",
       "    </tr>\n",
       "    <tr>\n",
       "      <th>532</th>\n",
       "      <td>GCF_013100865.1</td>\n",
       "      <td>Trachemys scripta elegans (red-eared slider tu...</td>\n",
       "      <td>31138</td>\n",
       "      <td>sauropsida_odb10</td>\n",
       "      <td>7480</td>\n",
       "      <td>0.975668</td>\n",
       "      <td>0.967112</td>\n",
       "      <td>0.008556</td>\n",
       "      <td>0.006283</td>\n",
       "      <td>0.018048</td>\n",
       "      <td>0</td>\n",
       "    </tr>\n",
       "    <tr>\n",
       "      <th>985</th>\n",
       "      <td>GCF_000455745.1</td>\n",
       "      <td>Alligator sinensis (Chinese alligator)</td>\n",
       "      <td>38654</td>\n",
       "      <td>sauropsida_odb10</td>\n",
       "      <td>7480</td>\n",
       "      <td>0.975267</td>\n",
       "      <td>0.969385</td>\n",
       "      <td>0.005882</td>\n",
       "      <td>0.012700</td>\n",
       "      <td>0.012032</td>\n",
       "      <td>0</td>\n",
       "    </tr>\n",
       "    <tr>\n",
       "      <th>712</th>\n",
       "      <td>GCF_003597395.1</td>\n",
       "      <td>Chelonoidis abingdonii (Abingdon island giant ...</td>\n",
       "      <td>106734</td>\n",
       "      <td>sauropsida_odb10</td>\n",
       "      <td>7480</td>\n",
       "      <td>0.974733</td>\n",
       "      <td>0.964840</td>\n",
       "      <td>0.009893</td>\n",
       "      <td>0.010829</td>\n",
       "      <td>0.014438</td>\n",
       "      <td>0</td>\n",
       "    </tr>\n",
       "    <tr>\n",
       "      <th>716</th>\n",
       "      <td>GCF_002925995.2</td>\n",
       "      <td>Terrapene carolina triunguis (Three-toed box t...</td>\n",
       "      <td>2587831</td>\n",
       "      <td>sauropsida_odb10</td>\n",
       "      <td>7480</td>\n",
       "      <td>0.973930</td>\n",
       "      <td>0.864305</td>\n",
       "      <td>0.109626</td>\n",
       "      <td>0.012166</td>\n",
       "      <td>0.013904</td>\n",
       "      <td>0</td>\n",
       "    </tr>\n",
       "    <tr>\n",
       "      <th>818</th>\n",
       "      <td>GCF_001723895.1</td>\n",
       "      <td>Crocodylus porosus (Australian saltwater croco...</td>\n",
       "      <td>8502</td>\n",
       "      <td>sauropsida_odb10</td>\n",
       "      <td>7480</td>\n",
       "      <td>0.968583</td>\n",
       "      <td>0.964840</td>\n",
       "      <td>0.003743</td>\n",
       "      <td>0.005080</td>\n",
       "      <td>0.026337</td>\n",
       "      <td>0</td>\n",
       "    </tr>\n",
       "    <tr>\n",
       "      <th>907</th>\n",
       "      <td>GCF_000230535.1</td>\n",
       "      <td>Pelodiscus sinensis (Chinese soft-shelled turtle)</td>\n",
       "      <td>13735</td>\n",
       "      <td>sauropsida_odb10</td>\n",
       "      <td>7480</td>\n",
       "      <td>0.964973</td>\n",
       "      <td>0.954412</td>\n",
       "      <td>0.010561</td>\n",
       "      <td>0.015107</td>\n",
       "      <td>0.019920</td>\n",
       "      <td>0</td>\n",
       "    </tr>\n",
       "    <tr>\n",
       "      <th>817</th>\n",
       "      <td>GCF_001723915.1</td>\n",
       "      <td>Gavialis gangeticus (Gharial)</td>\n",
       "      <td>94835</td>\n",
       "      <td>sauropsida_odb10</td>\n",
       "      <td>7480</td>\n",
       "      <td>0.960695</td>\n",
       "      <td>0.956283</td>\n",
       "      <td>0.004412</td>\n",
       "      <td>0.005481</td>\n",
       "      <td>0.033823</td>\n",
       "      <td>0</td>\n",
       "    </tr>\n",
       "    <tr>\n",
       "      <th>912</th>\n",
       "      <td>GCF_000225785.1</td>\n",
       "      <td>Latimeria chalumnae (coelacanth)</td>\n",
       "      <td>7897</td>\n",
       "      <td>vertebrata_odb10</td>\n",
       "      <td>3354</td>\n",
       "      <td>0.940668</td>\n",
       "      <td>0.927549</td>\n",
       "      <td>0.013119</td>\n",
       "      <td>0.042338</td>\n",
       "      <td>0.016995</td>\n",
       "      <td>0</td>\n",
       "    </tr>\n",
       "    <tr>\n",
       "      <th>319</th>\n",
       "      <td>GCF_019279795.1</td>\n",
       "      <td>Protopterus annectens (West African lungfish)</td>\n",
       "      <td>7888</td>\n",
       "      <td>vertebrata_odb10</td>\n",
       "      <td>3354</td>\n",
       "      <td>0.939773</td>\n",
       "      <td>0.918605</td>\n",
       "      <td>0.021169</td>\n",
       "      <td>0.032200</td>\n",
       "      <td>0.028026</td>\n",
       "      <td>0</td>\n",
       "    </tr>\n",
       "  </tbody>\n",
       "</table>\n",
       "</div>"
      ],
      "text/plain": [
       "                 GCF                                               Name  \\\n",
       "285  GCF_020497125.1                Mauremys mutica (yellowpond turtle)   \n",
       "441  GCF_016161935.1                Mauremys reevesii (Reeves's turtle)   \n",
       "74   GCF_027887155.1  Malaclemys terrapin pileata (diamondback terra...   \n",
       "323  GCF_015237465.2                  Chelonia mydas (Green sea turtle)   \n",
       "635  GCF_007399415.2     Gopherus evgoodei (Goodes thornscrub tortoise)   \n",
       "831  GCF_000281125.3    Alligator mississippiensis (American alligator)   \n",
       "132  GCF_025201925.1  Gopherus flavomarginatus (Mexican gopher torto...   \n",
       "301  GCF_009764565.3      Dermochelys coriacea (leatherback sea turtle)   \n",
       "185  GCF_023653815.1                Caretta caretta (Loggerhead turtle)   \n",
       "532  GCF_013100865.1  Trachemys scripta elegans (red-eared slider tu...   \n",
       "985  GCF_000455745.1             Alligator sinensis (Chinese alligator)   \n",
       "712  GCF_003597395.1  Chelonoidis abingdonii (Abingdon island giant ...   \n",
       "716  GCF_002925995.2  Terrapene carolina triunguis (Three-toed box t...   \n",
       "818  GCF_001723895.1  Crocodylus porosus (Australian saltwater croco...   \n",
       "907  GCF_000230535.1  Pelodiscus sinensis (Chinese soft-shelled turtle)   \n",
       "817  GCF_001723915.1                      Gavialis gangeticus (Gharial)   \n",
       "912  GCF_000225785.1                   Latimeria chalumnae (coelacanth)   \n",
       "319  GCF_019279795.1      Protopterus annectens (West African lungfish)   \n",
       "\n",
       "       Taxid           Lineage  Count     Score    Single      Dupl     Fragm  \\\n",
       "285    74926  sauropsida_odb10   7480  0.993182  0.971123  0.022059  0.001070   \n",
       "441   260615  sauropsida_odb10   7480  0.991578  0.975668  0.015909  0.001604   \n",
       "74   2991368  sauropsida_odb10   7480  0.991444  0.979679  0.011765  0.001738   \n",
       "323     8469  sauropsida_odb10   7480  0.990107  0.978877  0.011230  0.003075   \n",
       "635  1825980  sauropsida_odb10   7480  0.989439  0.975134  0.014305  0.001604   \n",
       "831     8496  sauropsida_odb10   7480  0.986364  0.981417  0.004947  0.006283   \n",
       "132   286002  sauropsida_odb10   7480  0.984626  0.972193  0.012433  0.003342   \n",
       "301    27794  sauropsida_odb10   7480  0.982086  0.971791  0.010294  0.005214   \n",
       "185     8467  sauropsida_odb10   7480  0.977941  0.967914  0.010027  0.002139   \n",
       "532    31138  sauropsida_odb10   7480  0.975668  0.967112  0.008556  0.006283   \n",
       "985    38654  sauropsida_odb10   7480  0.975267  0.969385  0.005882  0.012700   \n",
       "712   106734  sauropsida_odb10   7480  0.974733  0.964840  0.009893  0.010829   \n",
       "716  2587831  sauropsida_odb10   7480  0.973930  0.864305  0.109626  0.012166   \n",
       "818     8502  sauropsida_odb10   7480  0.968583  0.964840  0.003743  0.005080   \n",
       "907    13735  sauropsida_odb10   7480  0.964973  0.954412  0.010561  0.015107   \n",
       "817    94835  sauropsida_odb10   7480  0.960695  0.956283  0.004412  0.005481   \n",
       "912     7897  vertebrata_odb10   3354  0.940668  0.927549  0.013119  0.042338   \n",
       "319     7888  vertebrata_odb10   3354  0.939773  0.918605  0.021169  0.032200   \n",
       "\n",
       "         Miss  Class  \n",
       "285  0.005749      0  \n",
       "441  0.006818      0  \n",
       "74   0.006818      0  \n",
       "323  0.006818      0  \n",
       "635  0.008957      0  \n",
       "831  0.007353      0  \n",
       "132  0.012032      0  \n",
       "301  0.012700      0  \n",
       "185  0.019920      0  \n",
       "532  0.018048      0  \n",
       "985  0.012032      0  \n",
       "712  0.014438      0  \n",
       "716  0.013904      0  \n",
       "818  0.026337      0  \n",
       "907  0.019920      0  \n",
       "817  0.033823      0  \n",
       "912  0.016995      0  \n",
       "319  0.028026      0  "
      ]
     },
     "execution_count": 25,
     "metadata": {},
     "output_type": "execute_result"
    }
   ],
   "source": [
    "busco[busco['Class'] == 0]"
   ]
  },
  {
   "cell_type": "markdown",
   "metadata": {},
   "source": [
    "In the original paper, we have used other taxonomic ranks for these species. Now we are going to just take the top 3 proteomes with 0s, as well as Latimeria chalumnae and Protopterus annectens and human."
   ]
  },
  {
   "cell_type": "code",
   "execution_count": 26,
   "metadata": {},
   "outputs": [],
   "source": [
    "proteomes_list = [\n",
    "    busco[busco['Taxid'] == 7897]['GCF'].to_list()[0],\n",
    "    busco[busco['Taxid'] == 7888]['GCF'].to_list()[0],\n",
    "    busco[busco['Taxid'] == 9606]['GCF'].to_list()[0]\n",
    "]\n",
    "# The top 3 with 0s will be added later"
   ]
  },
  {
   "cell_type": "markdown",
   "metadata": {},
   "source": [
    "Now lets just take the top 3 proteomes in each class:"
   ]
  },
  {
   "cell_type": "code",
   "execution_count": 27,
   "metadata": {},
   "outputs": [],
   "source": [
    "for name, class_df in busco.groupby('Class'):\n",
    "    class_df = class_df.sort_values(by = ['Score'], ascending = False)\n",
    "    class_proteomes = list()\n",
    "    taxids = set()\n",
    "    for index, row in class_df.iterrows():\n",
    "        if not (row['Taxid'] in taxids):\n",
    "            class_proteomes.append(row['GCF'])\n",
    "        taxids.add(row['Taxid'])\n",
    "    proteomes_list += class_proteomes[:3]"
   ]
  },
  {
   "cell_type": "markdown",
   "metadata": {},
   "source": [
    "Lets write down obtained assembly identifiers."
   ]
  },
  {
   "cell_type": "code",
   "execution_count": 28,
   "metadata": {},
   "outputs": [],
   "source": [
    "with open('./refseq_proteomes/assembly_ids.txt', 'w') as out:\n",
    "    out.write('\\n'.join(list(set(proteomes_list))))"
   ]
  },
  {
   "cell_type": "markdown",
   "metadata": {},
   "source": [
    "#### 3. Download proteomes, create and configure your BLAST database."
   ]
  },
  {
   "cell_type": "markdown",
   "metadata": {},
   "source": [
    "The NCBI Datasets tools might be used to download the proteomes but it is more convenient to use batch Entrez option.\n",
    "- Go to https://www.ncbi.nlm.nih.gov/sites/batchentrez;\n",
    "- Choose the Assembly Database;\n",
    "- Select the \"assembly_ids.txt\" file;\n",
    "- Click \"Retrieve\";\n",
    "- Click \"Retrieve records for ... UID(s)\";\n",
    "- Click \"Download Assemblies\", then choose the RefSeq database and \"Protein FASTA (.faa)\" file type;\n",
    "- Create the \"./refseq_proteomes/assembly_files\" folder and place TAR files there;\n",
    "- Click \"Download Assemblies\", then choose the RefSeq database and \"Feature table (.txt)\" file type;\n",
    "- Place TAR files in the newly created \"./refseq_proteomes/assembly_files\" folder."
   ]
  },
  {
   "cell_type": "markdown",
   "metadata": {},
   "source": [
    "Lets manage the obtained files and concatenate all FASTA files and feature tables."
   ]
  },
  {
   "cell_type": "code",
   "execution_count": 29,
   "metadata": {},
   "outputs": [
    {
     "name": "stderr",
     "output_type": "stream",
     "text": [
      "mkdir: cannot create directory ‘../busco_refseq’: File exists\n"
     ]
    }
   ],
   "source": [
    "%%bash\n",
    "\n",
    "cd ./refseq_proteomes/assembly_files\n",
    "tar -xf genome_assemblies_features.tar\n",
    "tar -xf genome_assemblies_prot_fasta.tar\n",
    "mkdir ../busco_refseq\n",
    "\n",
    "# Making a single FASTA file\n",
    "> ../busco_refseq/busco_refseq.fasta\n",
    "for fasta_file in ./*/*.faa.gz\n",
    "do\n",
    "  zcat $fasta_file >> ../busco_refseq/busco_refseq.fasta\n",
    "done\n",
    "\n",
    "# Header for feature table\n",
    "for ft_file in ./*/*.txt.gz\n",
    "do\n",
    "  zcat $ft_file | head -n 1 | awk '{ \\\n",
    "      print $3,$11,$15,$16; \\\n",
    "    }' FS='\\t' OFS='\\t' \\\n",
    "    > ../busco_refseq/busco_feature_table.txt\n",
    "  break\n",
    "done\n",
    "\n",
    "# Feature table\n",
    "for ft_file in ./*/*.txt.gz\n",
    "do\n",
    "  zcat $ft_file | awk '{ \\\n",
    "      if ($1 == \"CDS\" && $2 == \"with_protein\") \\\n",
    "        print $3,$11,$15,$16; \\\n",
    "    }' FS='\\t' OFS='\\t' \\\n",
    "    >> ../busco_refseq/busco_feature_table.txt\n",
    "done"
   ]
  },
  {
   "cell_type": "markdown",
   "metadata": {},
   "source": [
    "Checking if FASTA files and the feature table are fully compatible..."
   ]
  },
  {
   "cell_type": "code",
   "execution_count": 31,
   "metadata": {},
   "outputs": [
    {
     "name": "stdout",
     "output_type": "stream",
     "text": [
      "Assemblies list: ok\n",
      "GCF_013753865.1: ok\n",
      "GCF_028583425.1: ok\n",
      "GCF_016835505.1: ok\n",
      "GCF_001194135.2: ok\n",
      "GCF_950005125.1: ok\n",
      "GCF_914725855.1: ok\n",
      "GCF_001039355.2: ok\n",
      "GCF_018691265.1: ok\n",
      "GCF_000001635.27: ok\n",
      "GCF_007990345.1: ok\n",
      "GCF_015342785.2: ok\n",
      "GCF_000591075.1: ok\n",
      "GCF_022113875.1: ok\n",
      "GCF_000517525.1: ok\n",
      "GCF_017312705.1: ok\n",
      "GCF_002260705.1: ok\n",
      "GCF_000633955.1: ok\n",
      "GCF_020740725.1: ok\n",
      "GCF_025612915.1: ok\n",
      "GCF_011630105.1: ok\n",
      "GCF_019649055.1: ok\n",
      "GCF_000224145.3: ok\n",
      "GCF_028641065.1: ok\n",
      "GCF_009602425.1: ok\n",
      "GCF_000003605.2: ok\n",
      "GCF_006345805.1: ok\n",
      "GCF_000003815.2: ok\n",
      "GCF_000004255.2: ok\n",
      "GCF_024679095.1: ok\n",
      "GCF_019279795.1: ok\n",
      "GCF_003286155.1: ok\n",
      "GCF_021234035.1: ok\n",
      "GCF_027172205.1: ok\n",
      "GCF_000002075.1: ok\n",
      "GCF_947568905.1: ok\n",
      "GCF_010993605.1: ok\n",
      "GCF_009764475.1: ok\n",
      "GCF_947242115.1: ok\n",
      "GCF_017976425.1: ok\n",
      "GCF_017639785.1: ok\n",
      "GCF_017639515.1: ok\n",
      "GCF_020497125.1: ok\n",
      "GCF_000485595.1: ok\n",
      "GCF_022539665.1: ok\n",
      "GCF_932526225.1: ok\n",
      "GCF_018143015.1: ok\n",
      "GCF_015706575.1: ok\n",
      "GCF_900747795.2: ok\n",
      "GCF_947563725.1: ok\n",
      "GCF_000001405.40: ok\n",
      "GCF_016920785.2: ok\n",
      "GCF_002113885.1: ok\n",
      "GCF_027244095.1: ok\n",
      "GCF_000143415.4: ok\n",
      "GCF_001625305.1: ok\n",
      "GCF_020424385.1: ok\n",
      "GCF_020631705.1: ok\n",
      "GCF_000225785.1: ok\n",
      "GCF_027887155.1: ok\n",
      "GCF_000002425.4: ok\n",
      "GCF_000002235.5: ok\n",
      "GCF_017654675.1: ok\n",
      "GCF_019059575.1: ok\n",
      "GCF_023055435.1: ok\n",
      "GCF_902459465.1: ok\n",
      "GCF_000365465.3: ok\n",
      "GCF_002999335.1: ok\n",
      "GCF_027924625.1: ok\n",
      "GCF_002217175.1: ok\n",
      "GCF_016161935.1: ok\n",
      "GCF_000331425.1: ok\n",
      "GCF_013122585.1: ok\n",
      "GCF_016746245.2: ok\n",
      "GCF_901001135.1: ok\n",
      "GCF_901765095.1: ok\n",
      "GCF_029227915.1: ok\n",
      "GCF_018152535.1: ok\n",
      "GCF_001949145.1: ok\n"
     ]
    }
   ],
   "source": [
    "import os\n",
    "import gzip\n",
    "from glob import glob\n",
    "\n",
    "ft = pd.read_csv('refseq_proteomes/busco_refseq/busco_feature_table.txt', sep = '\\t')\n",
    "\n",
    "assemblies = set()\n",
    "for path in glob('refseq_proteomes/assembly_files/*/*.faa.gz'):\n",
    "    filename = os.path.basename(path)\n",
    "    assembly = '_'.join(filename.split('_')[0:2])\n",
    "    assemblies.add(assembly)\n",
    "\n",
    "if assemblies == set(ft['assembly']) == set(proteomes_list):\n",
    "    print(\"Assemblies list: ok\")\n",
    "else:\n",
    "    raise Exception(\"FASTA file and assembly list do not match\")\n",
    "\n",
    "for path in glob('refseq_proteomes/assembly_files/*/*.faa.gz'):\n",
    "    filename = os.path.basename(path)\n",
    "    with gzip.open(path, 'r') as inp:\n",
    "        proteome = inp.readlines()\n",
    "    proteome = [p.decode('utf-8').split()[0][1:] for p in proteome if p.startswith(b'>')]\n",
    "    assembly = '_'.join(filename.split('_')[0:2])\n",
    "    curr_df = ft[ft['assembly'] == assembly]\n",
    "    if set(proteome) == set(curr_df['product_accession']):\n",
    "        print(assembly + ': ok')\n",
    "    else:\n",
    "        raise Exception(assembly + ': protein accession numbers from the feature table and FASTA files do not match')"
   ]
  },
  {
   "cell_type": "markdown",
   "metadata": {},
   "source": [
    "Adding the taxonomy information to the feature table."
   ]
  },
  {
   "cell_type": "code",
   "execution_count": 32,
   "metadata": {},
   "outputs": [],
   "source": [
    "busco = busco[['GCF', 'Taxid']]\n",
    "\n",
    "taxid_dict = dict()\n",
    "for index, b in busco.iterrows():\n",
    "    taxid_dict[b['GCF']] = b['Taxid']\n",
    "\n",
    "ft['#tax_id'] = ft['assembly'].map(taxid_dict)\n",
    "\n",
    "if len(ft['#tax_id'].unique()) != len(ft['assembly'].unique()):\n",
    "    raise Exception('Check the tax_id and assembly correspondence')\n",
    "\n",
    "g2r = ft\n",
    "\n",
    "g2r = g2r.rename(columns = {\n",
    "    'product_accession': 'protein_accession.version',\n",
    "    'symbol': 'Symbol'\n",
    "})\n",
    "\n",
    "g2r.to_csv('refseq_proteomes/g2r.tsv', sep = '\\t', index = False)"
   ]
  },
  {
   "cell_type": "markdown",
   "metadata": {},
   "source": [
    "Finally, lets create a BLAST search database (provide path to your makeblastdb binary if necessary)."
   ]
  },
  {
   "cell_type": "code",
   "execution_count": 33,
   "metadata": {},
   "outputs": [
    {
     "name": "stdout",
     "output_type": "stream",
     "text": [
      "\n",
      "\n",
      "Building a new DB, current time: 08/09/2023 15:16:20\n",
      "New DB name:   /home/bioinfuser/applications/COG_diss/refseq_proteomes/busco_refseq/busco_refseq\n",
      "New DB title:  busco_refseq\n",
      "Sequence type: Protein\n"
     ]
    },
    {
     "name": "stdout",
     "output_type": "stream",
     "text": [
      "Deleted existing Protein BLAST database named /home/bioinfuser/applications/COG_diss/refseq_proteomes/busco_refseq/busco_refseq\n",
      "Keep MBits: T\n",
      "Maximum file size: 2000000000B\n",
      "Adding sequences from FASTA; added 3298598 sequences in 155.5 seconds.\n"
     ]
    }
   ],
   "source": [
    "%%bash\n",
    "\n",
    "cd ./refseq_proteomes/busco_refseq\n",
    "makeblastdb \\\n",
    "  -dbtype prot \\\n",
    "  -in ./busco_refseq.fasta \\\n",
    "  -title busco_refseq \\\n",
    "  -parse_seqids \\\n",
    "  -out busco_refseq \\\n",
    "  -max_file_sz 2GB"
   ]
  },
  {
   "cell_type": "markdown",
   "metadata": {},
   "source": [
    "Edit the .ncbirc file accordingly (insert your paths if necessary)."
   ]
  },
  {
   "cell_type": "code",
   "execution_count": 34,
   "metadata": {},
   "outputs": [],
   "source": [
    "%%bash\n",
    "\n",
    "busco_refseq_path=$(readlink -f ./refseq_proteomes/busco_refseq)\n",
    "echo \"[BLAST]\" > ~/.ncbirc\n",
    "echo \"BLASTDB=${busco_refseq_path}\" >> ~/.ncbirc\n",
    "echo \"DATA_LOADERS=blastdb\" >> ~/.ncbirc\n",
    "echo \"BLASTDB_PROT_DATA_LOADER=busco_refseq\" >> ~/.ncbirc"
   ]
  },
  {
   "cell_type": "markdown",
   "metadata": {},
   "source": [
    "Edit the configuration file (replace blastdbcmd_path and blastp_path if necessary)."
   ]
  },
  {
   "cell_type": "code",
   "execution_count": 1,
   "metadata": {},
   "outputs": [],
   "source": [
    "%%bash\n",
    "\n",
    "refseq_proteomes_path=$(readlink -f ./refseq_proteomes)\n",
    "blastdbcmd_path=$(which blastdbcmd)\n",
    "blastp_path=$(which blastp)\n",
    "echo \"# Local 'gene2refseq' file\" > ./cogconf.txt\n",
    "echo \"path2G2R:${refseq_proteomes_path}/g2r.tsv\" >> ./cogconf.txt\n",
    "echo \"# If you use refseq, download this file and unzip, then provide names.dmp file: ftp://ftp.ncbi.nlm.nih.gov/pub/taxonomy/taxdump.tar.gz\" >> ./cogconf.txt\n",
    "echo \"path2T2N:${refseq_proteomes_path}/taxonomy/names.dmp\" >> ./cogconf.txt\n",
    "echo \"# Name of database with representative taxids\" >> ./cogconf.txt\n",
    "echo \"databaseName:busco_refseq\" >> ./cogconf.txt\n",
    "echo \"# Path to Blastp utility\" >> ./cogconf.txt\n",
    "echo \"path2blastp:${blastp_path}\" >> ./cogconf.txt\n",
    "echo \"# Path to BlastDBCmd utility\" >> ./cogconf.txt\n",
    "echo \"blastdbcmd:${blastdbcmd_path}\" >> ./cogconf.txt"
   ]
  },
  {
   "cell_type": "markdown",
   "metadata": {},
   "source": [
    "Your database is ready for work! Please, create a conda environment for this tool:\n",
    "```\n",
    "conda env create -n [NEW_ENV_NAME] -f dependencies.yml\n",
    "```\n",
    "...activate it...\n",
    "```\n",
    "conda activate [NEW_ENV_NAME]\n",
    "```\n",
    " and test your installation:"
   ]
  },
  {
   "cell_type": "code",
   "execution_count": 2,
   "metadata": {},
   "outputs": [
    {
     "name": "stdout",
     "output_type": "stream",
     "text": [
      "2023-08-10 14:46:12.493430: start\n",
      "NP_001104262\n",
      "NP_001278\n",
      "2023-08-10 14:47:00.122005: \"proteins\" ready\n",
      "2023-08-10 14:54:22.299444: Blast search completed (chunk 0)\n",
      "2023-08-10 14:59:12.862464: Blast search completed (chunk 1)\n",
      "2023-08-10 15:06:50.640761: Blast search completed (chunk 2)\n",
      "2023-08-10 15:12:56.540567: Blast search completed (chunk 3)\n",
      "2023-08-10 15:17:40.588645: Blast search completed (chunk 4)\n",
      "2023-08-10 15:23:39.867273: Blast search completed (chunk 5)\n",
      "2023-08-10 15:29:43.515175: Blast search completed (chunk 6)\n",
      "2023-08-10 15:31:56.818472: Blast search completed (chunk 7)\n",
      "Checking Blast dictionary...\n",
      "2023-08-10 15:39:20.783133: Blast search completed (iteration 0, chunk 0)\n",
      "2023-08-10 15:47:00.973461: Blast search completed (iteration 0, chunk 1)\n",
      "2023-08-10 15:54:02.506368: Blast search completed (iteration 0, chunk 2)\n",
      "2023-08-10 16:02:13.041004: Blast search completed (iteration 0, chunk 3)\n",
      "2023-08-10 16:08:57.879575: Blast search completed (iteration 0, chunk 4)\n",
      "2023-08-10 16:11:45.872790: Blast search completed (iteration 0, chunk 5)\n",
      "2023-08-10 16:11:47.094125: Blast dictionary checked\n",
      "2023-08-10 16:12:56.358720: \"proteins\" ready\n",
      "2023-08-10 16:17:40.416719: Blast search completed (chunk 0)\n",
      "2023-08-10 16:21:31.188496: Blast search completed (chunk 1)\n",
      "2023-08-10 16:26:01.489610: Blast search completed (chunk 2)\n",
      "2023-08-10 16:29:32.362322: Blast search completed (chunk 3)\n",
      "2023-08-10 16:32:51.621936: Blast search completed (chunk 4)\n",
      "2023-08-10 16:35:48.454105: Blast search completed (chunk 5)\n",
      "2023-08-10 16:38:53.685803: Blast search completed (chunk 6)\n",
      "2023-08-10 16:42:11.300307: Blast search completed (chunk 7)\n",
      "2023-08-10 16:45:48.713470: Blast search completed (chunk 8)\n",
      "2023-08-10 16:49:15.826357: Blast search completed (chunk 9)\n",
      "2023-08-10 16:53:14.345560: Blast search completed (chunk 10)\n",
      "2023-08-10 16:58:09.525550: Blast search completed (chunk 11)\n",
      "2023-08-10 17:04:34.026392: Blast search completed (chunk 12)\n",
      "2023-08-10 17:09:06.306445: Blast search completed (chunk 13)\n",
      "2023-08-10 17:12:47.857697: Blast search completed (chunk 14)\n",
      "Checking Blast dictionary...\n",
      "2023-08-10 17:16:59.710879: Blast search completed (iteration 0, chunk 0)\n",
      "2023-08-10 17:21:05.470331: Blast search completed (iteration 0, chunk 1)\n",
      "2023-08-10 17:25:06.766481: Blast search completed (iteration 0, chunk 2)\n",
      "2023-08-10 17:29:21.710338: Blast search completed (iteration 0, chunk 3)\n",
      "2023-08-10 17:33:24.694899: Blast search completed (iteration 0, chunk 4)\n",
      "2023-08-10 17:37:56.394122: Blast search completed (iteration 0, chunk 5)\n",
      "2023-08-10 17:42:03.673127: Blast search completed (iteration 0, chunk 6)\n",
      "2023-08-10 17:46:41.961929: Blast search completed (iteration 0, chunk 7)\n",
      "2023-08-10 17:50:47.918735: Blast search completed (iteration 0, chunk 8)\n",
      "2023-08-10 17:54:43.968061: Blast search completed (iteration 0, chunk 9)\n",
      "2023-08-10 17:58:58.420892: Blast search completed (iteration 0, chunk 10)\n",
      "2023-08-10 18:03:26.906550: Blast search completed (iteration 0, chunk 11)\n"
     ]
    }
   ],
   "source": [
    "%%bash\n",
    "\n",
    "echo \"NP_001104262\" > ./refseq_proteomes/test_input.txt\n",
    "echo \"NP_001278\" >> ./refseq_proteomes/test_input.txt\n",
    "# you can observe the test_input.txt\n",
    "python3 ./cog.py \\\n",
    "    ./refseq_proteomes/test_input.txt \\\n",
    "    ./refseq_proteomes/test_output"
   ]
  }
 ],
 "metadata": {
  "kernelspec": {
   "display_name": "cog",
   "language": "python",
   "name": "python3"
  },
  "language_info": {
   "codemirror_mode": {
    "name": "ipython",
    "version": 3
   },
   "file_extension": ".py",
   "mimetype": "text/x-python",
   "name": "python",
   "nbconvert_exporter": "python",
   "pygments_lexer": "ipython3",
   "version": "3.10.12"
  },
  "orig_nbformat": 4
 },
 "nbformat": 4,
 "nbformat_minor": 2
}
